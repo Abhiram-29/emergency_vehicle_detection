{
 "cells": [
  {
   "cell_type": "code",
   "execution_count": 1,
   "id": "69163d22-6202-4c33-846a-e946dfae67b6",
   "metadata": {
    "execution": {
     "iopub.execute_input": "2024-11-03T11:01:21.048993Z",
     "iopub.status.busy": "2024-11-03T11:01:21.048993Z",
     "iopub.status.idle": "2024-11-03T11:01:21.064030Z",
     "shell.execute_reply": "2024-11-03T11:01:21.064030Z",
     "shell.execute_reply.started": "2024-11-03T11:01:21.048993Z"
    }
   },
   "outputs": [],
   "source": [
    "import os\n",
    "import random\n",
    "from pathlib import Path\n",
    "from pydub import AudioSegment"
   ]
  },
  {
   "cell_type": "code",
   "execution_count": 2,
   "id": "d919a6b2-aef3-4ba0-83e5-f01cc0736210",
   "metadata": {
    "execution": {
     "iopub.execute_input": "2024-11-03T11:01:21.065035Z",
     "iopub.status.busy": "2024-11-03T11:01:21.064030Z",
     "iopub.status.idle": "2024-11-03T11:01:21.067952Z",
     "shell.execute_reply": "2024-11-03T11:01:21.067952Z",
     "shell.execute_reply.started": "2024-11-03T11:01:21.065035Z"
    }
   },
   "outputs": [],
   "source": [
    "ambulance_dir = Path(\"OriginalDataset/ambulance\")\n",
    "police_dir = Path(\"OriginalDataset/police\")\n",
    "firetruck_dir = Path(\"OriginalDataset/firetruck\")\n",
    "noise_dir = Path(\"OriginalDataset/traffic\")\n",
    "output_ambulance_dir = Path(\"Dataset/ambulance\")\n",
    "output_police_dir = Path(\"Dataset/police\")\n",
    "output_firetruck_dir = Path(\"Dataset/firetruck\")\n",
    "\n",
    "\n",
    "os.makedirs(output_ambulance_dir, exist_ok=True)\n",
    "os.makedirs(output_police_dir, exist_ok=True)\n",
    "os.makedirs(output_firetruck_dir, exist_ok=True)"
   ]
  },
  {
   "cell_type": "code",
   "execution_count": 3,
   "id": "a3eb360c-3e1b-490c-8203-88175062fd47",
   "metadata": {
    "execution": {
     "iopub.execute_input": "2024-11-03T11:01:21.067952Z",
     "iopub.status.busy": "2024-11-03T11:01:21.067952Z",
     "iopub.status.idle": "2024-11-03T11:01:21.073055Z",
     "shell.execute_reply": "2024-11-03T11:01:21.073055Z",
     "shell.execute_reply.started": "2024-11-03T11:01:21.067952Z"
    }
   },
   "outputs": [],
   "source": [
    "def add_noise_to_audio(original_files, noise_files, original_dir, noise_dir, output_dir, noise_level=-20):\n",
    "    \"\"\"\n",
    "    Overlays random noise files onto original audio files from the specified directories\n",
    "    and saves them to the output directory.\n",
    "    \n",
    "    Parameters:\n",
    "    - original_files (list): List of filenames for original audio files.\n",
    "    - noise_files (list): List of filenames for noise audio files.\n",
    "    - original_dir (Path): Path to the original audio files directory.\n",
    "    - noise_dir (Path): Path to the noise audio files directory.\n",
    "    - output_dir (Path): Path to the output directory for saving mixed audio files.\n",
    "    - noise_level (float): The dB level to attenuate the noise (default is -20 dB).\n",
    "    \"\"\"\n",
    "    \n",
    "    output_dir.mkdir(parents=True, exist_ok=True)\n",
    "    i = 0\n",
    "    for original_filename in original_files:\n",
    "        original_path = original_dir / original_filename\n",
    "        \n",
    "        try:\n",
    "            original_audio = AudioSegment.from_wav(original_path)\n",
    "            \n",
    "            # Select a random noise file and construct full path\n",
    "            noise_filename = random.choice(noise_files)\n",
    "            noise_path = noise_dir / noise_filename\n",
    "            noise_audio = AudioSegment.from_wav(noise_path)\n",
    "            \n",
    "            # Loop or truncate noise to match original audio duration\n",
    "            if len(noise_audio) < len(original_audio):\n",
    "                noise_audio = noise_audio * (len(original_audio) // len(noise_audio) + 1)\n",
    "            noise_audio = noise_audio[:len(original_audio)]\n",
    "            \n",
    "            # Adjust noise level\n",
    "            noise_audio = noise_audio - noise_level\n",
    "            combined_audio = original_audio.overlay(noise_audio)\n",
    "            \n",
    "            # Save the combined audio\n",
    "            output_path = output_dir / f\"mixed_{original_filename}\"\n",
    "            combined_audio.export(output_path, format=\"wav\")\n",
    "            i += 1\n",
    "            if i%20 == 0:\n",
    "                print(f\"Processed {i} files\")\n",
    "       \n",
    "        except FileNotFoundError as e:\n",
    "            print(f\"File not found: {e}\")\n",
    "        except Exception as e:\n",
    "            print(f\"Error processing {original_filename}: {e}\")"
   ]
  },
  {
   "cell_type": "code",
   "execution_count": 4,
   "id": "9e3cd533-6c09-4859-844b-397497fefee9",
   "metadata": {
    "execution": {
     "iopub.execute_input": "2024-11-03T11:01:21.073055Z",
     "iopub.status.busy": "2024-11-03T11:01:21.073055Z",
     "iopub.status.idle": "2024-11-03T11:01:21.080988Z",
     "shell.execute_reply": "2024-11-03T11:01:21.080988Z",
     "shell.execute_reply.started": "2024-11-03T11:01:21.073055Z"
    }
   },
   "outputs": [],
   "source": [
    "ambulance_files = [f.name for f in ambulance_dir.glob(\"*.wav\")]\n",
    "police_files = [f.name for f in police_dir.glob(\"*.wav\")]\n",
    "firetruck_files = [f.name for f in firetruck_dir.glob(\"*.wav\")]\n",
    "noise_files = [f.name for f in noise_dir.glob(\"*.wav\")]"
   ]
  },
  {
   "cell_type": "code",
   "execution_count": 5,
   "id": "ba1fa338-02fe-42ad-9422-7813c21d961a",
   "metadata": {
    "execution": {
     "iopub.execute_input": "2024-11-03T11:01:21.080988Z",
     "iopub.status.busy": "2024-11-03T11:01:21.080988Z",
     "iopub.status.idle": "2024-11-03T11:01:22.099605Z",
     "shell.execute_reply": "2024-11-03T11:01:22.099605Z",
     "shell.execute_reply.started": "2024-11-03T11:01:21.080988Z"
    }
   },
   "outputs": [
    {
     "name": "stdout",
     "output_type": "stream",
     "text": [
      "Processed 20 files\n",
      "Processed 40 files\n",
      "Processed 60 files\n",
      "Processed 80 files\n",
      "Processed 100 files\n",
      "Processed 120 files\n",
      "Processed 140 files\n",
      "Processed 160 files\n",
      "Processed 180 files\n",
      "Processed 200 files\n",
      "Processed 220 files\n",
      "Processed 240 files\n",
      "Processed 260 files\n",
      "Processed 280 files\n",
      "Processed 300 files\n",
      "Processed 320 files\n",
      "Processed 340 files\n",
      "Processed 360 files\n",
      "Processed 380 files\n",
      "Processed 400 files\n"
     ]
    }
   ],
   "source": [
    "#Preporcessing Ambulance files\n",
    "add_noise_to_audio(ambulance_files, noise_files, ambulance_dir, noise_dir, output_ambulance_dir, noise_level=-10)"
   ]
  },
  {
   "cell_type": "code",
   "execution_count": 6,
   "id": "d08e37c7-143c-4f95-a7d3-3590a72d27e1",
   "metadata": {
    "execution": {
     "iopub.execute_input": "2024-11-03T11:01:22.099605Z",
     "iopub.status.busy": "2024-11-03T11:01:22.099605Z",
     "iopub.status.idle": "2024-11-03T11:01:23.168476Z",
     "shell.execute_reply": "2024-11-03T11:01:23.168476Z",
     "shell.execute_reply.started": "2024-11-03T11:01:22.099605Z"
    }
   },
   "outputs": [
    {
     "name": "stdout",
     "output_type": "stream",
     "text": [
      "Processed 20 files\n",
      "Processed 40 files\n",
      "Processed 60 files\n",
      "Processed 80 files\n",
      "Processed 100 files\n",
      "Processed 120 files\n",
      "Processed 140 files\n",
      "Processed 160 files\n",
      "Processed 180 files\n",
      "Processed 200 files\n",
      "Processed 220 files\n",
      "Processed 240 files\n",
      "Processed 260 files\n",
      "Processed 280 files\n",
      "Processed 300 files\n",
      "Processed 320 files\n",
      "Processed 340 files\n",
      "Processed 360 files\n",
      "Processed 380 files\n",
      "Processed 400 files\n",
      "Processed 420 files\n",
      "Processed 440 files\n"
     ]
    }
   ],
   "source": [
    "#Preporcessing police files\n",
    "add_noise_to_audio(police_files, noise_files, police_dir, noise_dir, output_police_dir, noise_level=-10)"
   ]
  },
  {
   "cell_type": "code",
   "execution_count": 7,
   "id": "76f4cb32-8f5c-44df-8439-cb43adcd706e",
   "metadata": {
    "execution": {
     "iopub.execute_input": "2024-11-03T11:01:23.168476Z",
     "iopub.status.busy": "2024-11-03T11:01:23.168476Z",
     "iopub.status.idle": "2024-11-03T11:01:24.171150Z",
     "shell.execute_reply": "2024-11-03T11:01:24.171150Z",
     "shell.execute_reply.started": "2024-11-03T11:01:23.168476Z"
    }
   },
   "outputs": [
    {
     "name": "stdout",
     "output_type": "stream",
     "text": [
      "Processed 20 files\n",
      "Processed 40 files\n",
      "Processed 60 files\n",
      "Processed 80 files\n",
      "Processed 100 files\n",
      "Processed 120 files\n",
      "Processed 140 files\n",
      "Processed 160 files\n",
      "Processed 180 files\n",
      "Processed 200 files\n",
      "Processed 220 files\n",
      "Processed 240 files\n",
      "Processed 260 files\n",
      "Processed 280 files\n",
      "Processed 300 files\n",
      "Processed 320 files\n",
      "Processed 340 files\n",
      "Processed 360 files\n",
      "Processed 380 files\n",
      "Processed 400 files\n"
     ]
    }
   ],
   "source": [
    "#Preporcessing firetruck files\n",
    "add_noise_to_audio(firetruck_files, noise_files, firetruck_dir, noise_dir, output_firetruck_dir, noise_level=-10)"
   ]
  }
 ],
 "metadata": {
  "kernelspec": {
   "display_name": "Python 3 (ipykernel)",
   "language": "python",
   "name": "python3"
  },
  "language_info": {
   "codemirror_mode": {
    "name": "ipython",
    "version": 3
   },
   "file_extension": ".py",
   "mimetype": "text/x-python",
   "name": "python",
   "nbconvert_exporter": "python",
   "pygments_lexer": "ipython3",
   "version": "3.11.4"
  }
 },
 "nbformat": 4,
 "nbformat_minor": 5
}
